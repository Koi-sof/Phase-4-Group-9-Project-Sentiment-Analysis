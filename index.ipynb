{
 "cells": [
  {
   "cell_type": "markdown",
   "id": "4612833a",
   "metadata": {},
   "source": [
    "# 1. Business Understanding"
   ]
  },
  {
   "cell_type": "markdown",
   "id": "63bbb62b",
   "metadata": {},
   "source": [
    "## 1.1 Introduction\n",
    "\n",
    "This project aims to classify sentiments in tweets mentioning Apple and Google products into three categories: positive, neutral, or negative. Sentiment analysis is a key application of natural language processing (NLP) that helps organizations understand public opinion at scale.\n",
    "\n",
    "\n",
    "## 1.2 Problem Statement\n",
    "\n",
    "Apple and Google depend heavily on the perception of their customers towards their products. As customers continue to give feedback on platforms such as Twitter(X), it is important to understand the sentiment of their feedback. This has lead to the development of models that can help classify these tweets.\n",
    "\n",
    "## 1.3 Objectives\n",
    "\n",
    "### 1.3.1 Main Objective\n",
    "\n",
    "Build an accurate and efficient natural language processing model to classify tweets mentioning Apple and Google products into three sentiment categories: `positive`, `neutral` and `negative`.\n",
    "\n",
    "### 1.3.2 Specific objectives\n",
    "\n",
    "- To explore and analyze the tweet data and provide actionable insights\n",
    "\n",
    "- To preprocess the data using Natural Language Processing techniques.\n",
    "\n",
    "- To evaluate classifier performance using appropriate metrics\n",
    "\n"
   ]
  },
  {
   "cell_type": "markdown",
   "id": "fe6409e4",
   "metadata": {},
   "source": [
    "# 2. Data Understanding"
   ]
  },
  {
   "cell_type": "code",
   "execution_count": 48,
   "id": "9e172c1d",
   "metadata": {},
   "outputs": [
    {
     "name": "stderr",
     "output_type": "stream",
     "text": [
      "[nltk_data] Downloading package stopwords to\n",
      "[nltk_data]     /home/muchiri/nltk_data...\n",
      "[nltk_data]   Package stopwords is already up-to-date!\n",
      "[nltk_data] Downloading package wordnet to /home/muchiri/nltk_data...\n",
      "[nltk_data]   Package wordnet is already up-to-date!\n"
     ]
    }
   ],
   "source": [
    "# importing the necessary libraries\n",
    "import pandas as pd\n",
    "import numpy as np\n",
    "\n",
    "# visualization libraries\n",
    "import matplotlib.pyplot as plt\n",
    "import seaborn as sns\n",
    "\n",
    "# machine learning libraries\n",
    "from sklearn.preprocessing import LabelEncoder\n",
    "from sklearn.model_selection import train_test_split\n",
    "from sklearn.linear_model import LogisticRegression\n",
    "from sklearn.preprocessing import LabelEncoder\n",
    "from sklearn.metrics import accuracy_score, precision_score, recall_score, f1_score, classification_report\n",
    "from sklearn.tree import DecisionTreeClassifier\n",
    "from sklearn.naive_bayes import MultinomialNB, ComplementNB\n",
    "from sklearn.neighbors import KNeighborsClassifier\n",
    "from sklearn.metrics import confusion_matrix, ConfusionMatrixDisplay\n",
    "import joblib\n",
    "from sklearn.pipeline import Pipeline\n",
    "from sklearn.preprocessing import FunctionTransformer\n",
    "import pickle\n",
    "from sklearn.model_selection import GridSearchCV\n",
    "from imblearn.pipeline import Pipeline as ImbPipeline\n",
    "from imblearn.over_sampling import SMOTE\n",
    "\n",
    "# NLTK packages\n",
    "import re\n",
    "import string\n",
    "import nltk\n",
    "from nltk.corpus import stopwords\n",
    "from nltk.stem import WordNetLemmatizer\n",
    "from sklearn.feature_extraction.text import TfidfVectorizer, CountVectorizer\n",
    "nltk.download('stopwords')\n",
    "nltk.download('wordnet')\n",
    "\n",
    "# ignoring warnings\n",
    "import warnings\n",
    "warnings.filterwarnings('ignore')"
   ]
  },
  {
   "cell_type": "markdown",
   "id": "10aa824a",
   "metadata": {},
   "source": [
    "## 2.1 Initial Data Loading and Inspection"
   ]
  },
  {
   "cell_type": "code",
   "execution_count": 3,
   "id": "39f70007",
   "metadata": {},
   "outputs": [
    {
     "data": {
      "text/html": [
       "<div>\n",
       "<style scoped>\n",
       "    .dataframe tbody tr th:only-of-type {\n",
       "        vertical-align: middle;\n",
       "    }\n",
       "\n",
       "    .dataframe tbody tr th {\n",
       "        vertical-align: top;\n",
       "    }\n",
       "\n",
       "    .dataframe thead th {\n",
       "        text-align: right;\n",
       "    }\n",
       "</style>\n",
       "<table border=\"1\" class=\"dataframe\">\n",
       "  <thead>\n",
       "    <tr style=\"text-align: right;\">\n",
       "      <th></th>\n",
       "      <th>tweet_text</th>\n",
       "      <th>emotion_in_tweet_is_directed_at</th>\n",
       "      <th>is_there_an_emotion_directed_at_a_brand_or_product</th>\n",
       "    </tr>\n",
       "  </thead>\n",
       "  <tbody>\n",
       "    <tr>\n",
       "      <th>0</th>\n",
       "      <td>.@wesley83 I have a 3G iPhone. After 3 hrs twe...</td>\n",
       "      <td>iPhone</td>\n",
       "      <td>Negative emotion</td>\n",
       "    </tr>\n",
       "    <tr>\n",
       "      <th>1</th>\n",
       "      <td>@jessedee Know about @fludapp ? Awesome iPad/i...</td>\n",
       "      <td>iPad or iPhone App</td>\n",
       "      <td>Positive emotion</td>\n",
       "    </tr>\n",
       "    <tr>\n",
       "      <th>2</th>\n",
       "      <td>@swonderlin Can not wait for #iPad 2 also. The...</td>\n",
       "      <td>iPad</td>\n",
       "      <td>Positive emotion</td>\n",
       "    </tr>\n",
       "    <tr>\n",
       "      <th>3</th>\n",
       "      <td>@sxsw I hope this year's festival isn't as cra...</td>\n",
       "      <td>iPad or iPhone App</td>\n",
       "      <td>Negative emotion</td>\n",
       "    </tr>\n",
       "    <tr>\n",
       "      <th>4</th>\n",
       "      <td>@sxtxstate great stuff on Fri #SXSW: Marissa M...</td>\n",
       "      <td>Google</td>\n",
       "      <td>Positive emotion</td>\n",
       "    </tr>\n",
       "  </tbody>\n",
       "</table>\n",
       "</div>"
      ],
      "text/plain": [
       "                                          tweet_text  \\\n",
       "0  .@wesley83 I have a 3G iPhone. After 3 hrs twe...   \n",
       "1  @jessedee Know about @fludapp ? Awesome iPad/i...   \n",
       "2  @swonderlin Can not wait for #iPad 2 also. The...   \n",
       "3  @sxsw I hope this year's festival isn't as cra...   \n",
       "4  @sxtxstate great stuff on Fri #SXSW: Marissa M...   \n",
       "\n",
       "  emotion_in_tweet_is_directed_at  \\\n",
       "0                          iPhone   \n",
       "1              iPad or iPhone App   \n",
       "2                            iPad   \n",
       "3              iPad or iPhone App   \n",
       "4                          Google   \n",
       "\n",
       "  is_there_an_emotion_directed_at_a_brand_or_product  \n",
       "0                                   Negative emotion  \n",
       "1                                   Positive emotion  \n",
       "2                                   Positive emotion  \n",
       "3                                   Negative emotion  \n",
       "4                                   Positive emotion  "
      ]
     },
     "execution_count": 3,
     "metadata": {},
     "output_type": "execute_result"
    }
   ],
   "source": [
    "df = pd.read_csv('data/judge-1377884607_tweet_product_company.csv', encoding='ISO-8859-1')\n",
    "df.head()"
   ]
  },
  {
   "cell_type": "code",
   "execution_count": 4,
   "id": "9f8e5b84",
   "metadata": {},
   "outputs": [
    {
     "data": {
      "text/html": [
       "<div>\n",
       "<style scoped>\n",
       "    .dataframe tbody tr th:only-of-type {\n",
       "        vertical-align: middle;\n",
       "    }\n",
       "\n",
       "    .dataframe tbody tr th {\n",
       "        vertical-align: top;\n",
       "    }\n",
       "\n",
       "    .dataframe thead th {\n",
       "        text-align: right;\n",
       "    }\n",
       "</style>\n",
       "<table border=\"1\" class=\"dataframe\">\n",
       "  <thead>\n",
       "    <tr style=\"text-align: right;\">\n",
       "      <th></th>\n",
       "      <th>tweet</th>\n",
       "      <th>directed_at</th>\n",
       "      <th>sentiment</th>\n",
       "    </tr>\n",
       "  </thead>\n",
       "  <tbody>\n",
       "    <tr>\n",
       "      <th>6010</th>\n",
       "      <td>RT @mention Hey if you're at #sxsw, try out th...</td>\n",
       "      <td>NaN</td>\n",
       "      <td>No emotion toward brand or product</td>\n",
       "    </tr>\n",
       "  </tbody>\n",
       "</table>\n",
       "</div>"
      ],
      "text/plain": [
       "                                                  tweet directed_at  \\\n",
       "6010  RT @mention Hey if you're at #sxsw, try out th...         NaN   \n",
       "\n",
       "                               sentiment  \n",
       "6010  No emotion toward brand or product  "
      ]
     },
     "execution_count": 4,
     "metadata": {},
     "output_type": "execute_result"
    }
   ],
   "source": [
    "# renaming the columns\n",
    "df = df.rename(columns={'tweet_text': 'tweet', 'emotion_in_tweet_is_directed_at': 'directed_at', 'is_there_an_emotion_directed_at_a_brand_or_product':'sentiment'})\n",
    "df.sample()"
   ]
  },
  {
   "cell_type": "code",
   "execution_count": 5,
   "id": "8f7a7f17",
   "metadata": {},
   "outputs": [
    {
     "name": "stdout",
     "output_type": "stream",
     "text": [
      "<class 'pandas.core.frame.DataFrame'>\n",
      "RangeIndex: 9093 entries, 0 to 9092\n",
      "Data columns (total 3 columns):\n",
      " #   Column       Non-Null Count  Dtype \n",
      "---  ------       --------------  ----- \n",
      " 0   tweet        9092 non-null   object\n",
      " 1   directed_at  3291 non-null   object\n",
      " 2   sentiment    9093 non-null   object\n",
      "dtypes: object(3)\n",
      "memory usage: 213.2+ KB\n"
     ]
    }
   ],
   "source": [
    "# checking the information of the dataset\n",
    "df.info()"
   ]
  },
  {
   "cell_type": "markdown",
   "id": "af7d1a4e",
   "metadata": {},
   "source": [
    "- The `tweet` column has only one null row. We will drop this row later on.\n",
    "\n",
    "- The `directed_at` column has alot of missing values."
   ]
  },
  {
   "cell_type": "code",
   "execution_count": 6,
   "id": "0be45cb9",
   "metadata": {},
   "outputs": [
    {
     "data": {
      "text/html": [
       "<div>\n",
       "<style scoped>\n",
       "    .dataframe tbody tr th:only-of-type {\n",
       "        vertical-align: middle;\n",
       "    }\n",
       "\n",
       "    .dataframe tbody tr th {\n",
       "        vertical-align: top;\n",
       "    }\n",
       "\n",
       "    .dataframe thead th {\n",
       "        text-align: right;\n",
       "    }\n",
       "</style>\n",
       "<table border=\"1\" class=\"dataframe\">\n",
       "  <thead>\n",
       "    <tr style=\"text-align: right;\">\n",
       "      <th></th>\n",
       "      <th>tweet</th>\n",
       "      <th>directed_at</th>\n",
       "      <th>sentiment</th>\n",
       "    </tr>\n",
       "  </thead>\n",
       "  <tbody>\n",
       "    <tr>\n",
       "      <th>count</th>\n",
       "      <td>9092</td>\n",
       "      <td>3291</td>\n",
       "      <td>9093</td>\n",
       "    </tr>\n",
       "    <tr>\n",
       "      <th>unique</th>\n",
       "      <td>9065</td>\n",
       "      <td>9</td>\n",
       "      <td>4</td>\n",
       "    </tr>\n",
       "    <tr>\n",
       "      <th>top</th>\n",
       "      <td>RT @mention Marissa Mayer: Google Will Connect...</td>\n",
       "      <td>iPad</td>\n",
       "      <td>No emotion toward brand or product</td>\n",
       "    </tr>\n",
       "    <tr>\n",
       "      <th>freq</th>\n",
       "      <td>5</td>\n",
       "      <td>946</td>\n",
       "      <td>5389</td>\n",
       "    </tr>\n",
       "  </tbody>\n",
       "</table>\n",
       "</div>"
      ],
      "text/plain": [
       "                                                    tweet directed_at  \\\n",
       "count                                                9092        3291   \n",
       "unique                                               9065           9   \n",
       "top     RT @mention Marissa Mayer: Google Will Connect...        iPad   \n",
       "freq                                                    5         946   \n",
       "\n",
       "                                 sentiment  \n",
       "count                                 9093  \n",
       "unique                                   4  \n",
       "top     No emotion toward brand or product  \n",
       "freq                                  5389  "
      ]
     },
     "execution_count": 6,
     "metadata": {},
     "output_type": "execute_result"
    }
   ],
   "source": [
    "# checking the descriptive statistics of the dataset\n",
    "df.describe()"
   ]
  },
  {
   "cell_type": "code",
   "execution_count": 7,
   "id": "d4bee39a",
   "metadata": {},
   "outputs": [
    {
     "data": {
      "text/plain": [
       "(9093, 3)"
      ]
     },
     "execution_count": 7,
     "metadata": {},
     "output_type": "execute_result"
    }
   ],
   "source": [
    "# checking the shae of the dataset\n",
    "df.shape"
   ]
  },
  {
   "cell_type": "markdown",
   "id": "8017410c",
   "metadata": {},
   "source": [
    "## 2.2 Data Cleaning\n",
    "\n",
    "In this section we will:\n",
    "- Handle missing values\n",
    "- Check for duplicates\n"
   ]
  },
  {
   "cell_type": "code",
   "execution_count": 8,
   "id": "a3637ded",
   "metadata": {},
   "outputs": [
    {
     "data": {
      "text/plain": [
       "tweet             1\n",
       "directed_at    5802\n",
       "sentiment         0\n",
       "dtype: int64"
      ]
     },
     "execution_count": 8,
     "metadata": {},
     "output_type": "execute_result"
    }
   ],
   "source": [
    "# checking the missing values\n",
    "df.isnull().sum() "
   ]
  },
  {
   "cell_type": "code",
   "execution_count": 9,
   "id": "1a091c1b",
   "metadata": {},
   "outputs": [],
   "source": [
    "# filling in the null values in directed_at with unknown\n",
    "df['directed_at'].fillna('Unknown', inplace=True)\n",
    "\n",
    "# dropping the null value in the tweet column\n",
    "df.dropna(subset=['tweet'], inplace=True, axis=0)"
   ]
  },
  {
   "cell_type": "code",
   "execution_count": 10,
   "id": "cec7d145",
   "metadata": {},
   "outputs": [
    {
     "data": {
      "text/plain": [
       "tweet          0\n",
       "directed_at    0\n",
       "sentiment      0\n",
       "dtype: int64"
      ]
     },
     "execution_count": 10,
     "metadata": {},
     "output_type": "execute_result"
    }
   ],
   "source": [
    "df.isnull().sum()"
   ]
  },
  {
   "cell_type": "code",
   "execution_count": 11,
   "id": "c7ff6d89",
   "metadata": {},
   "outputs": [
    {
     "data": {
      "text/plain": [
       "22"
      ]
     },
     "execution_count": 11,
     "metadata": {},
     "output_type": "execute_result"
    }
   ],
   "source": [
    "# checking for duplicate values\n",
    "\n",
    "df.duplicated().sum()"
   ]
  },
  {
   "cell_type": "code",
   "execution_count": 12,
   "id": "82a2e44f",
   "metadata": {},
   "outputs": [
    {
     "data": {
      "text/plain": [
       "0"
      ]
     },
     "execution_count": 12,
     "metadata": {},
     "output_type": "execute_result"
    }
   ],
   "source": [
    "# dropping the duplicates\n",
    "df.drop_duplicates(inplace=True)\n",
    "\n",
    "# checking if duplicates were dropped\n",
    "df.duplicated().sum()"
   ]
  },
  {
   "cell_type": "code",
   "execution_count": 13,
   "id": "a5f96261",
   "metadata": {},
   "outputs": [
    {
     "data": {
      "text/plain": [
       "sentiment\n",
       "No emotion toward brand or product    5375\n",
       "Positive emotion                      2970\n",
       "Negative emotion                       569\n",
       "I can't tell                           156\n",
       "Name: count, dtype: int64"
      ]
     },
     "execution_count": 13,
     "metadata": {},
     "output_type": "execute_result"
    }
   ],
   "source": [
    "df['sentiment'].value_counts()"
   ]
  },
  {
   "cell_type": "code",
   "execution_count": 14,
   "id": "9bdff746",
   "metadata": {},
   "outputs": [
    {
     "data": {
      "text/plain": [
       "sentiment\n",
       "Neutral emotion     5531\n",
       "Positive emotion    2970\n",
       "Negative emotion     569\n",
       "Name: count, dtype: int64"
      ]
     },
     "execution_count": 14,
     "metadata": {},
     "output_type": "execute_result"
    }
   ],
   "source": [
    "# replacing the sentiment values with more descriptive ones\n",
    "df['sentiment'] = df['sentiment'].replace({\n",
    "    'No emotion toward brand or product' : 'Neutral emotion',\n",
    "    \"I can't tell\" : \"Neutral emotion\"\n",
    "})\n",
    "\n",
    "df['sentiment'].value_counts()"
   ]
  },
  {
   "cell_type": "markdown",
   "id": "51062f50",
   "metadata": {},
   "source": [
    "## 2.4 Exploratory Data Analysis"
   ]
  },
  {
   "cell_type": "markdown",
   "id": "3b5e2982",
   "metadata": {},
   "source": [
    "In this section we will:\n",
    "\n",
    "- Check the distribution of the target variable(sentiment) within the dataset\n",
    "\n",
    "- Check the distribution of tweets across Apple and Google products.\n",
    "\n",
    "- Investigate how sentiment (positive, negative, neutral) is distributed across Tweets about Apple and Google products.\n",
    "\n",
    "- Investigate how sentiment is distributed betwwe Apple and Google\n"
   ]
  },
  {
   "cell_type": "markdown",
   "id": "976889c7",
   "metadata": {},
   "source": [
    "### 2.4.1 Distribution of Target Variable"
   ]
  },
  {
   "cell_type": "code",
   "execution_count": 15,
   "id": "75a3d868",
   "metadata": {},
   "outputs": [
    {
     "name": "stdout",
     "output_type": "stream",
     "text": [
      "sentiment\n",
      "Neutral emotion     60.981\n",
      "Positive emotion    32.745\n",
      "Negative emotion     6.273\n",
      "Name: proportion, dtype: float64\n"
     ]
    }
   ],
   "source": [
    "sentiment_perc = df['sentiment'].value_counts(normalize=True) * 100\n",
    "print(sentiment_perc.round(3))"
   ]
  },
  {
   "cell_type": "code",
   "execution_count": 16,
   "id": "5facf09c",
   "metadata": {},
   "outputs": [
    {
     "data": {
      "image/png": "[encoded data removed]",
      "text/plain": [
       "<Figure size 640x480 with 1 Axes>"
      ]
     },
     "metadata": {},
     "output_type": "display_data"
    }
   ],
   "source": [
    "# countplot of the sentiment column\n",
    "sns.countplot(x='sentiment', data=df)\n",
    "plt.title(\"Distribution of Sentiment\")\n",
    "plt.xticks(rotation=20)\n",
    "plt.show()"
   ]
  },
  {
   "cell_type": "markdown",
   "id": "9606fa14",
   "metadata": {},
   "source": [
    "From the chart, it is evident that **neutral tweets** are the most frequent, significantly outnumbering the other two classes. **Negative tweets** follow, indicating that a considerable portion of the tweets express dissatisfaction or criticism. On the other hand, **positive tweets** are the least represented in the dataset.\n",
    "\n",
    "The uneven distribution of sentiment classes means our dataset is **imbalanced**. This poses a significant risk for any machine learning models trained on it, as they are likely to develop a bias toward the majority class (neutral sentiment). To prevent this, preprocessing must include measures like class weighting or resampling to ensure the model learns from all sentiments equally."
   ]
  },
  {
   "cell_type": "markdown",
   "id": "9be965cf",
   "metadata": {},
   "source": [
    "### 2.4.2 Distribution of Sentiment across tweets about Apple and Google products"
   ]
  },
  {
   "cell_type": "code",
   "execution_count": 17,
   "id": "077ec0f1",
   "metadata": {},
   "outputs": [
    {
     "data": {
      "image/png": "[encoded data removed]",
      "text/plain": [
       "<Figure size 1000x600 with 1 Axes>"
      ]
     },
     "metadata": {},
     "output_type": "display_data"
    }
   ],
   "source": [
    "sentiment_counts = df.groupby(['directed_at', 'sentiment']).size().unstack(fill_value=0)\n",
    "sentiment_counts.plot(kind='barh', stacked=True, figsize=(10,6))\n",
    "plt.title('Sentiment Distribution')\n",
    "plt.show()"
   ]
  },
  {
   "cell_type": "markdown",
   "id": "9ddb32b2",
   "metadata": {},
   "source": [
    "- Almost every product category, particularly the **high-volume** ones, shows a dominant **Positive segment**. This reinforces the finding that when users talk specifically about these products, the sentiment is generally favorable.\n",
    "\n",
    "- Categories like **Other Apple product or service, Android App,** and **Android** have the lowest tweet volumes but most are `Positive tweets`"
   ]
  },
  {
   "cell_type": "markdown",
   "id": "4ca31e1c",
   "metadata": {},
   "source": [
    "### 2.4.3 Distribution of Sentiment across Google and Apple"
   ]
  },
  {
   "cell_type": "markdown",
   "id": "4a0f5ec9",
   "metadata": {},
   "source": [
    "In order to better differentiate `sentiment` between the two companies, we feature engineered a new column: `company`. This contains all the products under each respective company."
   ]
  },
  {
   "cell_type": "code",
   "execution_count": 18,
   "id": "fe403d83",
   "metadata": {},
   "outputs": [],
   "source": [
    "# classifying the products into their respective companies\n",
    "company_mapping = {\n",
    "    'iPhone': 'Apple',\n",
    "    'iPad or iPhone App': 'Apple',\n",
    "    'iPad': 'Apple',\n",
    "    'Apple': 'Apple',\n",
    "    'Other Apple product or service': 'Apple',\n",
    "    'Google': 'Google',\n",
    "    'Android': 'Google',\n",
    "    'Android App': 'Google',\n",
    "    'Other Google product or service': 'Google'\n",
    "}\n",
    "\n",
    "df['company'] = df['directed_at'].map(company_mapping).fillna('Unknown')"
   ]
  },
  {
   "cell_type": "code",
   "execution_count": 19,
   "id": "34f07d78",
   "metadata": {},
   "outputs": [
    {
     "name": "stdout",
     "output_type": "stream",
     "text": [
      "sentiment  Negative emotion  Neutral emotion  Positive emotion\n",
      "company                                                       \n",
      "Apple                   387               72              1945\n",
      "Google                  131               28               719\n",
      "Unknown                  51             5431               306\n"
     ]
    },
    {
     "data": {
      "image/png": "[encoded data removed]",
      "text/plain": [
       "<Figure size 1000x600 with 1 Axes>"
      ]
     },
     "metadata": {},
     "output_type": "display_data"
    }
   ],
   "source": [
    "# plotting the distribution of sentiment across tweets about Apple and Google\n",
    "sentiment_counts_company = df.groupby(['company', 'sentiment']).size().unstack(fill_value=0)\n",
    "print(sentiment_counts_company)\n",
    "ax=sentiment_counts_company.plot(kind='bar', stacked=False, figsize=(10,6))\n",
    "plt.title('Sentiment Distribution')\n",
    "plt.show()"
   ]
  },
  {
   "cell_type": "markdown",
   "id": "6a25480e",
   "metadata": {},
   "source": [
    "- Both companies, Apple and Google have a higher count of `Positive emotion` at tweets compared to `Negative emotion.`\n",
    "\n",
    "- `Apple` has a higher **Positive emotion** than `Google`\n",
    "\n",
    "- `Apple` also has a higher **Negative emotion** than `Google`"
   ]
  },
  {
   "cell_type": "markdown",
   "id": "904c555f",
   "metadata": {},
   "source": [
    "### 2.4.4 Distribution of Negative Sentiment between Google and Apple"
   ]
  },
  {
   "cell_type": "code",
   "execution_count": 20,
   "id": "61331e2d",
   "metadata": {},
   "outputs": [
    {
     "name": "stdout",
     "output_type": "stream",
     "text": [
      "sentiment  Negative emotion\n",
      "company                    \n",
      "Apple                   387\n",
      "Google                  131\n",
      "Unknown                  51\n"
     ]
    },
    {
     "data": {
      "image/png": "[encoded data removed]",
      "text/plain": [
       "<Figure size 1000x600 with 1 Axes>"
      ]
     },
     "metadata": {},
     "output_type": "display_data"
    }
   ],
   "source": [
    "# Distribution of Negative Sentiment between Google and Apple\n",
    "\n",
    "# Creating a dataframe with only negative sentiment\n",
    "df_negative = df[df['sentiment'] == 'Negative emotion']\n",
    "\n",
    "# plotting the distribution of negative sentiment across tweets about Apple and Google\n",
    "negative_counts_company = df_negative.groupby(['company', 'sentiment']).size().unstack(fill_value=0)\n",
    "print(negative_counts_company)\n",
    "negative_counts_company.plot(kind='bar', stacked=False, figsize=(10,6))\n",
    "plt.title('Negative Sentiment Distribution')\n",
    "plt.show()\n",
    "\n"
   ]
  },
  {
   "cell_type": "markdown",
   "id": "a5a75676",
   "metadata": {},
   "source": [
    "- Apple(387) has more `Negative emotions` compared to Google(131) This is possible because Apple had a higher count of `Negative emotion` than Google. "
   ]
  },
  {
   "cell_type": "markdown",
   "id": "baa597d1",
   "metadata": {},
   "source": [
    "### 2.4.5 Distribution of Positive emotion "
   ]
  },
  {
   "cell_type": "code",
   "execution_count": 21,
   "id": "b2231c27",
   "metadata": {},
   "outputs": [
    {
     "name": "stdout",
     "output_type": "stream",
     "text": [
      "sentiment  Positive emotion\n",
      "company                    \n",
      "Apple                  1945\n",
      "Google                  719\n",
      "Unknown                 306\n"
     ]
    },
    {
     "data": {
      "image/png": "[encoded data removed]",
      "text/plain": [
       "<Figure size 1000x600 with 1 Axes>"
      ]
     },
     "metadata": {},
     "output_type": "display_data"
    }
   ],
   "source": [
    "# Distribution of Positive emotion across Google and Apple\n",
    "\n",
    "# Creating a dataframe with only positive sentiment\n",
    "df_positive = df[df['sentiment'] == 'Positive emotion']\n",
    "\n",
    "# Plotting the distribution of positive sentiment across Google and Apple\n",
    "positive_counts_company = df_positive.groupby(['company', 'sentiment']).size().unstack(fill_value=0)\n",
    "print(positive_counts_company)\n",
    "positive_counts_company.plot(kind='bar', stacked=False, figsize=(10,6))\n",
    "plt.title('Positive Sentiment Distribution')\n",
    "plt.show()\n",
    "\n"
   ]
  },
  {
   "cell_type": "markdown",
   "id": "d98f202c",
   "metadata": {},
   "source": [
    "- `Apple` also has a higher count of **Positive emotion** tweets compared to `Google`\n"
   ]
  },
  {
   "cell_type": "markdown",
   "id": "b02f0b18",
   "metadata": {},
   "source": [
    "### 2.4.6 Distribution of Tweet Length by Sentiment"
   ]
  },
  {
   "cell_type": "code",
   "execution_count": 22,
   "id": "12a643df",
   "metadata": {},
   "outputs": [
    {
     "data": {
      "text/plain": [
       "([0, 1, 2],\n",
       " [Text(0, 0, 'Negative emotion'),\n",
       "  Text(1, 0, 'Positive emotion'),\n",
       "  Text(2, 0, 'Neutral emotion')])"
      ]
     },
     "execution_count": 22,
     "metadata": {},
     "output_type": "execute_result"
    },
    {
     "data": {
      "image/png": "[encoded data removed]",
      "text/plain": [
       "<Figure size 640x480 with 1 Axes>"
      ]
     },
     "metadata": {},
     "output_type": "display_data"
    }
   ],
   "source": [
    "# Feature Engineering - Tweet Length\n",
    "df['tweet_length'] = df['tweet'].str.len()\n",
    "\n",
    "# Distribution of Tweet Length by Sentiment\n",
    "sns.boxplot(data=df, x='sentiment', y='tweet_length', palette='Set2')\n",
    "plt.title('Tweet Length by Sentiment', fontsize=12, fontweight='bold')\n",
    "plt.xlabel('Sentiment')\n",
    "plt.ylabel('Tweet Length (characters)')\n",
    "plt.xticks(rotation=45)"
   ]
  },
  {
   "cell_type": "markdown",
   "id": "8d4ec4fa",
   "metadata": {},
   "source": [
    "- The vast majority of tweets, regardless of sentiment, utilize the upper limit of the character count (140 characters)\n",
    "\n",
    "- Since the lengths of positive, negative, and neutral tweets don't differ significantly, we can conclude that the number of characters used isn't a reliable predictor of a tweet's sentiment."
   ]
  },
  {
   "cell_type": "markdown",
   "id": "29b65994",
   "metadata": {},
   "source": [
    "# 3. Data Preprocessing"
   ]
  },
  {
   "cell_type": "code",
   "execution_count": null,
   "id": "830e7a0f",
   "metadata": {},
   "outputs": [],
   "source": [
    "\n"
   ]
  },
  {
   "cell_type": "code",
   "execution_count": 23,
   "id": "fd58fba8",
   "metadata": {},
   "outputs": [],
   "source": [
    "# Define a mapping for common English contractions\n",
    "CONTRACTION_MAP = {\n",
    "    \"ain't\": \"is not\", \"aren't\": \"are not\", \"can't\": \"cannot\", \"can't've\": \"cannot have\",\n",
    "    \"cause\": \"because\", \"could've\": \"could have\", \"couldn't\": \"could not\",\n",
    "    \"didn't\": \"did not\", \"doesn't\": \"does not\", \"don't\": \"do not\", \"hadn't\": \"had not\",\n",
    "    \"hasn't\": \"has not\", \"haven't\": \"have not\", \"he'd\": \"he would\", \"he'll\": \"he will\",\n",
    "    \"he's\": \"he is\", \"how'd\": \"how did\", \"how'll\": \"how will\", \"how's\": \"how is\",\n",
    "    \"I'd\": \"I would\", \"I'll\": \"I will\", \"I'm\": \"I am\", \"I've\": \"I have\", \"isn't\": \"is not\",\n",
    "    \"it'd\": \"it would\", \"it'll\": \"it will\", \"it's\": \"it is\", \"let's\": \"let us\",\n",
    "    \"ma'am\": \"madam\", \"might've\": \"might have\", \"mightn't\": \"might not\",\n",
    "    \"must've\": \"must have\", \"mustn't\": \"must not\", \"needn't\": \"need not\",\n",
    "    \"o'clock\": \"of the clock\", \"shan't\": \"shall not\", \"she'd\": \"she would\",\n",
    "    \"she'll\": \"she will\", \"she's\": \"she is\", \"should've\": \"should have\",\n",
    "    \"shouldn't\": \"should not\", \"that's\": \"that is\", \"there'd\": \"there would\",\n",
    "    \"there's\": \"there is\", \"they'd\": \"they would\", \"they'll\": \"they will\",\n",
    "    \"they're\": \"they are\", \"they've\": \"they have\", \"wasn't\": \"was not\",\n",
    "    \"we'd\": \"we would\", \"we'll\": \"we will\", \"we're\": \"we are\", \"we've\": \"we have\",\n",
    "    \"weren't\": \"were not\", \"what'll\": \"what will\", \"what's\": \"what is\",\n",
    "    \"what've\": \"what have\", \"when's\": \"when is\", \"where'd\": \"where did\",\n",
    "    \"where's\": \"where is\", \"who'll\": \"who will\", \"who's\": \"who is\", \"who've\": \"who have\",\n",
    "    \"why's\": \"why is\", \"won't\": \"will not\", \"would've\": \"would have\",\n",
    "    \"wouldn't\": \"would not\", \"y'all\": \"you all\", \"you'd\": \"you would\",\n",
    "    \"you'll\": \"you will\", \"you're\": \"you are\", \"you've\": \"you have\",\n",
    "    # Specific Twitter/Data-specific replacements\n",
    "    \"@mention\": \"\", # Handle the anonymized mention in the dataset\n",
    "    \"&amp;\": \"and\", # Handle HTML entity\n",
    "}\n",
    "\n"
   ]
  },
  {
   "cell_type": "code",
   "execution_count": 24,
   "id": "35035b9a",
   "metadata": {},
   "outputs": [],
   "source": [
    "from sklearn.base import BaseEstimator, TransformerMixin\n",
    "class TextPreprocessor(BaseEstimator, TransformerMixin):\n",
    "    \"\"\"\n",
    "    A scikit-learn compatible transformer for cleaning and preprocessing text data.\n",
    "    \"\"\"\n",
    "    def __init__(self, min_word_len=3):\n",
    "        \"\"\"\n",
    "        Initializes the lemmatizer, contraction map, and stopwords.\n",
    "        NLTK resources (e.g., 'wordnet', 'stopwords') must be downloaded \n",
    "        before instantiation (e.g., in a notebook cell).\n",
    "        \"\"\"\n",
    "        self.lemmatizer = WordNetLemmatizer()\n",
    "        self.contraction_map = CONTRACTION_MAP\n",
    "        self.stopwords = set(stopwords.words('english'))\n",
    "        self.min_word_len = min_word_len\n",
    "\n",
    "    def _expand_contractions(self, text):\n",
    "        \"\"\"Expands common contractions in the text.\"\"\"\n",
    "        def replace(match):\n",
    "            return self.contraction_map.get(match.group(0), match.group(0))\n",
    "\n",
    "        contraction_patterns = re.compile('(%s)' % '|'.join(re.escape(key) for key in self.contraction_map.keys()), \n",
    "                                          flags=re.IGNORECASE|re.DOTALL)\n",
    "        expanded_text = contraction_patterns.sub(replace, text)\n",
    "        return expanded_text\n",
    "\n",
    "    def _clean_text(self, text):\n",
    "        \"\"\"\n",
    "        Performs data cleaning steps: URL, mention, hashtag removal, \n",
    "        contraction expansion, punctuation removal, repeated character removal, \n",
    "        and whitespace normalization.\n",
    "        \"\"\"\n",
    "        if not isinstance(text, str):\n",
    "            # Convert non-string (like NaN) to empty string\n",
    "            return \"\"\n",
    "\n",
    "        # 1. Removal of URLs\n",
    "        text = re.sub(r'http\\S+|www.\\S+', ' ', text)\n",
    "\n",
    "        # 1. Removal of generic Twitter handles and hashtags\n",
    "        text = re.sub(r'@[A-Za-z0-9_]+|#[A-Za-z0-9_]+', ' ', text)\n",
    "\n",
    "        # 2. Expansion of contractions\n",
    "        text = self._expand_contractions(text)\n",
    "\n",
    "        # 4. Removal of repeated characters (e.g., 'looove' -> 'love')\n",
    "        text = re.sub(r'(.)\\1{2,}', r'\\1', text)\n",
    "\n",
    "        # 3. Removal of punctuation and special characters (replace with space)\n",
    "        text = re.sub(r'[^\\w\\s]', ' ', text)\n",
    "\n",
    "        # 5. Normalization of whitespace\n",
    "        text = re.sub(r'\\s+', ' ', text).strip()\n",
    "\n",
    "        return text\n",
    "\n",
    "    def _preprocess_text(self, text):\n",
    "        \"\"\"\n",
    "        Performs text preprocessing steps: lowercasing, tokenization, \n",
    "        stopword removal, short word removal, and lemmatization.\n",
    "        \"\"\"\n",
    "        # 1. Convert to lowercase and tokenize\n",
    "        tokens = text.lower().split()\n",
    "\n",
    "        # 3, 4. Stopword and short word removal\n",
    "        tokens = [\n",
    "            word \n",
    "            for word in tokens \n",
    "            if word not in self.stopwords and len(word) >= self.min_word_len\n",
    "        ]\n",
    "\n",
    "        # 5. Lemmatization\n",
    "        tokens = [self.lemmatizer.lemmatize(word) for word in tokens]\n",
    "\n",
    "        # Re-join for vectorization input\n",
    "        return \" \".join(tokens)\n",
    "\n",
    "    def process_text(self, text):\n",
    "        \"\"\"Applies both cleaning and preprocessing steps.\"\"\"\n",
    "        cleaned_text = self._clean_text(text)\n",
    "        processed_text = self._preprocess_text(cleaned_text)\n",
    "        return processed_text\n",
    "\n",
    "    # ------------------------------------------------------------------\n",
    "    # --- Methods Required for Scikit-learn Pipeline Compatibility ---\n",
    "    # ------------------------------------------------------------------\n",
    "\n",
    "    def fit(self, X, y=None):\n",
    "        \"\"\"\n",
    "        Fit method for compatibility. Text preprocessing is stateless \n",
    "        (it does not learn from the data), so it just returns itself.\n",
    "        \"\"\"\n",
    "        return self\n",
    "\n",
    "    def transform(self, X):\n",
    "        \"\"\"\n",
    "        Applies the text processing pipeline to the input data X.\n",
    "        \n",
    "        Args:\n",
    "            X (array-like): Input data, expected to be a list/array of text strings.\n",
    "            \n",
    "        Returns:\n",
    "            list: A list of processed text strings.\n",
    "        \"\"\"\n",
    "        # Check if X is a Pandas Series/DataFrame and extract the values if needed\n",
    "        if isinstance(X, pd.Series):\n",
    "            X = X.values\n",
    "        elif isinstance(X, pd.DataFrame):\n",
    "            # Assumes the text is in the first column if DataFrame is passed\n",
    "            X = X.iloc[:, 0].values \n",
    "            \n",
    "        # Apply the processing function to every item in the input array/list X\n",
    "        # Returns a list of strings, ready for the next pipeline step (e.g., TfidfVectorizer)\n",
    "        return [self.process_text(text) for text in X]\n",
    "    \n",
    "    def fit_transform(self, X, y=None):\n",
    "        \"\"\"\n",
    "        Fit and transform in one step.\n",
    "        Since fit() doesn't learn anything, just call transform().\n",
    "        \"\"\"\n",
    "        return self.fit(X, y).transform(X)\n",
    "\n",
    "# Removed the illegal 'vectorize' method.\n",
    "# In a pipeline, the vectorizer (like TfidfVectorizer) is its own separate step."
   ]
  },
  {
   "cell_type": "code",
   "execution_count": 25,
   "id": "06a247ec",
   "metadata": {},
   "outputs": [],
   "source": [
    "processor = TextPreprocessor(min_word_len=3)"
   ]
  },
  {
   "cell_type": "code",
   "execution_count": 26,
   "id": "97af1954",
   "metadata": {},
   "outputs": [
    {
     "data": {
      "text/html": [
       "<div>\n",
       "<style scoped>\n",
       "    .dataframe tbody tr th:only-of-type {\n",
       "        vertical-align: middle;\n",
       "    }\n",
       "\n",
       "    .dataframe tbody tr th {\n",
       "        vertical-align: top;\n",
       "    }\n",
       "\n",
       "    .dataframe thead th {\n",
       "        text-align: right;\n",
       "    }\n",
       "</style>\n",
       "<table border=\"1\" class=\"dataframe\">\n",
       "  <thead>\n",
       "    <tr style=\"text-align: right;\">\n",
       "      <th></th>\n",
       "      <th>tweet</th>\n",
       "      <th>processed_tweet</th>\n",
       "    </tr>\n",
       "  </thead>\n",
       "  <tbody>\n",
       "    <tr>\n",
       "      <th>0</th>\n",
       "      <td>.@wesley83 I have a 3G iPhone. After 3 hrs twe...</td>\n",
       "      <td>iphone hr tweeting dead need upgrade plugin st...</td>\n",
       "    </tr>\n",
       "    <tr>\n",
       "      <th>1</th>\n",
       "      <td>@jessedee Know about @fludapp ? Awesome iPad/i...</td>\n",
       "      <td>know awesome ipad iphone app likely appreciate...</td>\n",
       "    </tr>\n",
       "    <tr>\n",
       "      <th>2</th>\n",
       "      <td>@swonderlin Can not wait for #iPad 2 also. The...</td>\n",
       "      <td>wait also sale</td>\n",
       "    </tr>\n",
       "    <tr>\n",
       "      <th>3</th>\n",
       "      <td>@sxsw I hope this year's festival isn't as cra...</td>\n",
       "      <td>hope year festival crashy year iphone app</td>\n",
       "    </tr>\n",
       "    <tr>\n",
       "      <th>4</th>\n",
       "      <td>@sxtxstate great stuff on Fri #SXSW: Marissa M...</td>\n",
       "      <td>great stuff fri marissa mayer google tim reill...</td>\n",
       "    </tr>\n",
       "  </tbody>\n",
       "</table>\n",
       "</div>"
      ],
      "text/plain": [
       "                                               tweet  \\\n",
       "0  .@wesley83 I have a 3G iPhone. After 3 hrs twe...   \n",
       "1  @jessedee Know about @fludapp ? Awesome iPad/i...   \n",
       "2  @swonderlin Can not wait for #iPad 2 also. The...   \n",
       "3  @sxsw I hope this year's festival isn't as cra...   \n",
       "4  @sxtxstate great stuff on Fri #SXSW: Marissa M...   \n",
       "\n",
       "                                     processed_tweet  \n",
       "0  iphone hr tweeting dead need upgrade plugin st...  \n",
       "1  know awesome ipad iphone app likely appreciate...  \n",
       "2                                     wait also sale  \n",
       "3          hope year festival crashy year iphone app  \n",
       "4  great stuff fri marissa mayer google tim reill...  "
      ]
     },
     "execution_count": 26,
     "metadata": {},
     "output_type": "execute_result"
    }
   ],
   "source": [
    "# Apply the full processing pipeline to the entire dataset\\n\",\n",
    "df['processed_tweet'] = df['tweet'].apply(processor.process_text)\n",
    "\n",
    "# Display the original and processed tweets\n",
    "df[['tweet', 'processed_tweet']].head()\n",
    "    "
   ]
  },
  {
   "cell_type": "code",
   "execution_count": 27,
   "id": "e8ec645e",
   "metadata": {},
   "outputs": [
    {
     "data": {
      "text/html": [
       "<div>\n",
       "<style scoped>\n",
       "    .dataframe tbody tr th:only-of-type {\n",
       "        vertical-align: middle;\n",
       "    }\n",
       "\n",
       "    .dataframe tbody tr th {\n",
       "        vertical-align: top;\n",
       "    }\n",
       "\n",
       "    .dataframe thead th {\n",
       "        text-align: right;\n",
       "    }\n",
       "</style>\n",
       "<table border=\"1\" class=\"dataframe\">\n",
       "  <thead>\n",
       "    <tr style=\"text-align: right;\">\n",
       "      <th></th>\n",
       "      <th>tweet</th>\n",
       "      <th>directed_at</th>\n",
       "      <th>sentiment</th>\n",
       "      <th>company</th>\n",
       "      <th>tweet_length</th>\n",
       "      <th>processed_tweet</th>\n",
       "    </tr>\n",
       "  </thead>\n",
       "  <tbody>\n",
       "    <tr>\n",
       "      <th>0</th>\n",
       "      <td>.@wesley83 I have a 3G iPhone. After 3 hrs twe...</td>\n",
       "      <td>iPhone</td>\n",
       "      <td>Negative emotion</td>\n",
       "      <td>Apple</td>\n",
       "      <td>127</td>\n",
       "      <td>iphone hr tweeting dead need upgrade plugin st...</td>\n",
       "    </tr>\n",
       "    <tr>\n",
       "      <th>1</th>\n",
       "      <td>@jessedee Know about @fludapp ? Awesome iPad/i...</td>\n",
       "      <td>iPad or iPhone App</td>\n",
       "      <td>Positive emotion</td>\n",
       "      <td>Apple</td>\n",
       "      <td>139</td>\n",
       "      <td>know awesome ipad iphone app likely appreciate...</td>\n",
       "    </tr>\n",
       "    <tr>\n",
       "      <th>2</th>\n",
       "      <td>@swonderlin Can not wait for #iPad 2 also. The...</td>\n",
       "      <td>iPad</td>\n",
       "      <td>Positive emotion</td>\n",
       "      <td>Apple</td>\n",
       "      <td>79</td>\n",
       "      <td>wait also sale</td>\n",
       "    </tr>\n",
       "    <tr>\n",
       "      <th>3</th>\n",
       "      <td>@sxsw I hope this year's festival isn't as cra...</td>\n",
       "      <td>iPad or iPhone App</td>\n",
       "      <td>Negative emotion</td>\n",
       "      <td>Apple</td>\n",
       "      <td>82</td>\n",
       "      <td>hope year festival crashy year iphone app</td>\n",
       "    </tr>\n",
       "    <tr>\n",
       "      <th>4</th>\n",
       "      <td>@sxtxstate great stuff on Fri #SXSW: Marissa M...</td>\n",
       "      <td>Google</td>\n",
       "      <td>Positive emotion</td>\n",
       "      <td>Google</td>\n",
       "      <td>131</td>\n",
       "      <td>great stuff fri marissa mayer google tim reill...</td>\n",
       "    </tr>\n",
       "    <tr>\n",
       "      <th>...</th>\n",
       "      <td>...</td>\n",
       "      <td>...</td>\n",
       "      <td>...</td>\n",
       "      <td>...</td>\n",
       "      <td>...</td>\n",
       "      <td>...</td>\n",
       "    </tr>\n",
       "    <tr>\n",
       "      <th>9088</th>\n",
       "      <td>Ipad everywhere. #SXSW {link}</td>\n",
       "      <td>iPad</td>\n",
       "      <td>Positive emotion</td>\n",
       "      <td>Apple</td>\n",
       "      <td>29</td>\n",
       "      <td>ipad everywhere link</td>\n",
       "    </tr>\n",
       "    <tr>\n",
       "      <th>9089</th>\n",
       "      <td>Wave, buzz... RT @mention We interrupt your re...</td>\n",
       "      <td>Unknown</td>\n",
       "      <td>Neutral emotion</td>\n",
       "      <td>Unknown</td>\n",
       "      <td>125</td>\n",
       "      <td>wave buzz interrupt regularly scheduled geek p...</td>\n",
       "    </tr>\n",
       "    <tr>\n",
       "      <th>9090</th>\n",
       "      <td>Google's Zeiger, a physician never reported po...</td>\n",
       "      <td>Unknown</td>\n",
       "      <td>Neutral emotion</td>\n",
       "      <td>Unknown</td>\n",
       "      <td>145</td>\n",
       "      <td>google zeiger physician never reported potenti...</td>\n",
       "    </tr>\n",
       "    <tr>\n",
       "      <th>9091</th>\n",
       "      <td>Some Verizon iPhone customers complained their...</td>\n",
       "      <td>Unknown</td>\n",
       "      <td>Neutral emotion</td>\n",
       "      <td>Unknown</td>\n",
       "      <td>140</td>\n",
       "      <td>verizon iphone customer complained time fell b...</td>\n",
       "    </tr>\n",
       "    <tr>\n",
       "      <th>9092</th>\n",
       "      <td>Ï¡Ïàü_ÊÎÒ£Áââ_£â_ÛâRT @...</td>\n",
       "      <td>Unknown</td>\n",
       "      <td>Neutral emotion</td>\n",
       "      <td>Unknown</td>\n",
       "      <td>104</td>\n",
       "      <td>ûârt google test ûïcheck offer link</td>\n",
       "    </tr>\n",
       "  </tbody>\n",
       "</table>\n",
       "<p>9070 rows × 6 columns</p>\n",
       "</div>"
      ],
      "text/plain": [
       "                                                  tweet         directed_at  \\\n",
       "0     .@wesley83 I have a 3G iPhone. After 3 hrs twe...              iPhone   \n",
       "1     @jessedee Know about @fludapp ? Awesome iPad/i...  iPad or iPhone App   \n",
       "2     @swonderlin Can not wait for #iPad 2 also. The...                iPad   \n",
       "3     @sxsw I hope this year's festival isn't as cra...  iPad or iPhone App   \n",
       "4     @sxtxstate great stuff on Fri #SXSW: Marissa M...              Google   \n",
       "...                                                 ...                 ...   \n",
       "9088                      Ipad everywhere. #SXSW {link}                iPad   \n",
       "9089  Wave, buzz... RT @mention We interrupt your re...             Unknown   \n",
       "9090  Google's Zeiger, a physician never reported po...             Unknown   \n",
       "9091  Some Verizon iPhone customers complained their...             Unknown   \n",
       "9092  Ï¡Ïàü_ÊÎÒ£Áââ_£â_ÛâRT @...             Unknown   \n",
       "\n",
       "             sentiment  company  tweet_length  \\\n",
       "0     Negative emotion    Apple           127   \n",
       "1     Positive emotion    Apple           139   \n",
       "2     Positive emotion    Apple            79   \n",
       "3     Negative emotion    Apple            82   \n",
       "4     Positive emotion   Google           131   \n",
       "...                ...      ...           ...   \n",
       "9088  Positive emotion    Apple            29   \n",
       "9089   Neutral emotion  Unknown           125   \n",
       "9090   Neutral emotion  Unknown           145   \n",
       "9091   Neutral emotion  Unknown           140   \n",
       "9092   Neutral emotion  Unknown           104   \n",
       "\n",
       "                                        processed_tweet  \n",
       "0     iphone hr tweeting dead need upgrade plugin st...  \n",
       "1     know awesome ipad iphone app likely appreciate...  \n",
       "2                                        wait also sale  \n",
       "3             hope year festival crashy year iphone app  \n",
       "4     great stuff fri marissa mayer google tim reill...  \n",
       "...                                                 ...  \n",
       "9088                               ipad everywhere link  \n",
       "9089  wave buzz interrupt regularly scheduled geek p...  \n",
       "9090  google zeiger physician never reported potenti...  \n",
       "9091  verizon iphone customer complained time fell b...  \n",
       "9092                ûârt google test ûïcheck offer link  \n",
       "\n",
       "[9070 rows x 6 columns]"
      ]
     },
     "execution_count": 27,
     "metadata": {},
     "output_type": "execute_result"
    }
   ],
   "source": [
    "df"
   ]
  },
  {
   "cell_type": "code",
   "execution_count": null,
   "id": "6f089073",
   "metadata": {},
   "outputs": [],
   "source": []
  },
  {
   "cell_type": "markdown",
   "id": "7869fc02",
   "metadata": {},
   "source": [
    "# 4. Modelling"
   ]
  },
  {
   "cell_type": "code",
   "execution_count": 28,
   "id": "07aa1082",
   "metadata": {},
   "outputs": [
    {
     "data": {
      "text/plain": [
       "encoded_sentiment\n",
       "1    5531\n",
       "2    2970\n",
       "0     569\n",
       "Name: count, dtype: int64"
      ]
     },
     "execution_count": 28,
     "metadata": {},
     "output_type": "execute_result"
    }
   ],
   "source": [
    "# Label Encoding the target variable\n",
    "le = LabelEncoder()\n",
    "df['encoded_sentiment'] = le.fit_transform(df['sentiment'])\n",
    "df['encoded_sentiment'].value_counts()\n"
   ]
  },
  {
   "cell_type": "markdown",
   "id": "82e8170c",
   "metadata": {},
   "source": [
    "We have label encoded the trget variables to the following: \n",
    "\n",
    "- `Neutral emotion` : 1\n",
    "\n",
    "- `Positive emotion` : 2\n",
    "\n",
    "- `Negative emotion` : 3"
   ]
  },
  {
   "cell_type": "markdown",
   "id": "da8c112c",
   "metadata": {},
   "source": [
    "## 4.1 Multi-Class Classification\n"
   ]
  },
  {
   "cell_type": "code",
   "execution_count": 29,
   "id": "aa49ef29",
   "metadata": {},
   "outputs": [],
   "source": [
    "# Create a simple preprocessing function\n",
    "def preprocess_texts(X):\n",
    "    \"\"\"Apply text preprocessing to a DataFrame column\"\"\"\n",
    "    if isinstance(X, pd.DataFrame):\n",
    "        texts = X.iloc[:, 0].values\n",
    "    elif isinstance(X, pd.Series):\n",
    "        texts = X.values\n",
    "    else:\n",
    "        texts = X\n",
    "    \n",
    "    processor = TextPreprocessor(min_word_len=3)\n",
    "    return [processor.process_text(text) for text in texts]\n",
    "# Create the transformer\n",
    "text_transformer = FunctionTransformer(preprocess_texts, validate=False)"
   ]
  },
  {
   "cell_type": "code",
   "execution_count": 30,
   "id": "5d71c5ef",
   "metadata": {},
   "outputs": [
    {
     "data": {
      "text/html": [
       "<div>\n",
       "<style scoped>\n",
       "    .dataframe tbody tr th:only-of-type {\n",
       "        vertical-align: middle;\n",
       "    }\n",
       "\n",
       "    .dataframe tbody tr th {\n",
       "        vertical-align: top;\n",
       "    }\n",
       "\n",
       "    .dataframe thead th {\n",
       "        text-align: right;\n",
       "    }\n",
       "</style>\n",
       "<table border=\"1\" class=\"dataframe\">\n",
       "  <thead>\n",
       "    <tr style=\"text-align: right;\">\n",
       "      <th></th>\n",
       "      <th>tweet</th>\n",
       "      <th>directed_at</th>\n",
       "      <th>sentiment</th>\n",
       "      <th>company</th>\n",
       "      <th>tweet_length</th>\n",
       "      <th>processed_tweet</th>\n",
       "      <th>encoded_sentiment</th>\n",
       "    </tr>\n",
       "  </thead>\n",
       "  <tbody>\n",
       "    <tr>\n",
       "      <th>3502</th>\n",
       "      <td>At the iPhone dev meetup #SXSW</td>\n",
       "      <td>Unknown</td>\n",
       "      <td>Neutral emotion</td>\n",
       "      <td>Unknown</td>\n",
       "      <td>30</td>\n",
       "      <td>iphone dev meetup</td>\n",
       "      <td>1</td>\n",
       "    </tr>\n",
       "  </tbody>\n",
       "</table>\n",
       "</div>"
      ],
      "text/plain": [
       "                               tweet directed_at        sentiment  company  \\\n",
       "3502  At the iPhone dev meetup #SXSW     Unknown  Neutral emotion  Unknown   \n",
       "\n",
       "      tweet_length    processed_tweet  encoded_sentiment  \n",
       "3502            30  iphone dev meetup                  1  "
      ]
     },
     "execution_count": 30,
     "metadata": {},
     "output_type": "execute_result"
    }
   ],
   "source": [
    "df.sample()"
   ]
  },
  {
   "cell_type": "code",
   "execution_count": 31,
   "id": "7fdddf6d",
   "metadata": {},
   "outputs": [
    {
     "name": "stdout",
     "output_type": "stream",
     "text": [
      "\n",
      "Multi-class Training set shape: (7256, 1)\n",
      "Multi-class Test set shape: (1814, 1)\n",
      "Multi-class Training labels shape: (7256,)\n",
      "Multi-class Test labels shape: (1814,)\n"
     ]
    }
   ],
   "source": [
    "# define X and y variables for multi-class classification\n",
    "X_mul = df[['tweet']]  # define the 'tweet' column as the feature\n",
    "y_mul = df['encoded_sentiment']  # use the encoded sentiment for multi-class classification\n",
    "\n",
    "# split the data into training and testing sets\n",
    "X_train_mul, X_test_mul, y_train_mul, y_test_mul = train_test_split(\n",
    "    X_mul,\n",
    "    y_mul,\n",
    "    test_size=0.2,\n",
    "    random_state=42,\n",
    "    stratify=y_mul\n",
    ")\n",
    "\n",
    "# display the shapes of the training and testing sets\n",
    "print(f\"\\nMulti-class Training set shape: {X_train_mul.shape}\")\n",
    "print(f\"Multi-class Test set shape: {X_test_mul.shape}\")\n",
    "print(f\"Multi-class Training labels shape: {y_train_mul.shape}\")\n",
    "print(f\"Multi-class Test labels shape: {y_test_mul.shape}\")"
   ]
  },
  {
   "cell_type": "code",
   "execution_count": 32,
   "id": "0fa26de9",
   "metadata": {},
   "outputs": [],
   "source": [
    "tfidf_vectorizer = TfidfVectorizer(ngram_range=(1, 2), max_features=5000)"
   ]
  },
  {
   "cell_type": "code",
   "execution_count": 33,
   "id": "40aef78c",
   "metadata": {},
   "outputs": [],
   "source": [
    "# creating the pipelines\n",
    "\n",
    "# Pipeline 1: Logistic regression (base model)\n",
    "logistic_pipe_mul = Pipeline([\n",
    "    ('preprocessor', text_transformer),\n",
    "    ('vectorizer', tfidf_vectorizer),\n",
    "    ('lgb_classifier', LogisticRegression(\n",
    "        max_iter=1000, \n",
    "        random_state=42, \n",
    "        class_weight='balanced',\n",
    "    ))\n",
    "])\n",
    "decision_pipe_mul = Pipeline([\n",
    "    ('preprocessor', text_transformer),\n",
    "    ('vectorizer', tfidf_vectorizer),\n",
    "    ('dt_classifier', DecisionTreeClassifier(random_state=42))\n",
    "])\n",
    "multinomial_nb_pipe = Pipeline([\n",
    "    ('preprocessor', text_transformer),\n",
    "    ('vectorizer', tfidf_vectorizer),\n",
    "    ('multinomial', MultinomialNB())\n",
    "])\n",
    "knn_pipe = Pipeline([\n",
    "    ('preprocessor', text_transformer),\n",
    "    ('vectorizer', tfidf_vectorizer),\n",
    "    ('knn', KNeighborsClassifier(n_neighbors=5))\n",
    "])\n",
    "multi_pipelines = {\n",
    "    'Multi-Logistic Regression (base model)': logistic_pipe_mul,\n",
    "    'Decision-tree': decision_pipe_mul,\n",
    "    'MultiNomial NB': multinomial_nb_pipe,\n",
    "    'KNN': knn_pipe,\n",
    "}"
   ]
  },
  {
   "cell_type": "code",
   "execution_count": 45,
   "id": "09746ada",
   "metadata": {},
   "outputs": [
    {
     "name": "stdout",
     "output_type": "stream",
     "text": [
      "\n",
      "Training Multi-Logistic Regression (base model)...\n"
     ]
    },
    {
     "name": "stdout",
     "output_type": "stream",
     "text": [
      "Accuracy: 0.6378\n",
      "Precision: 0.6684\n",
      "Recall: 0.6378\n",
      "F1 Score: 0.6487\n",
      " Classification Report:\n",
      "              precision    recall  f1-score   support\n",
      "\n",
      "           0       0.29      0.53      0.37       114\n",
      "           1       0.77      0.67      0.72      1106\n",
      "           2       0.56      0.60      0.58       594\n",
      "\n",
      "    accuracy                           0.64      1814\n",
      "   macro avg       0.54      0.60      0.55      1814\n",
      "weighted avg       0.67      0.64      0.65      1814\n",
      "\n",
      "\n",
      "Training Decision-tree...\n",
      "Accuracy: 0.6395\n",
      "Precision: 0.6263\n",
      "Recall: 0.6395\n",
      "F1 Score: 0.6302\n",
      " Classification Report:\n",
      "              precision    recall  f1-score   support\n",
      "\n",
      "           0       0.39      0.26      0.32       114\n",
      "           1       0.70      0.77      0.73      1106\n",
      "           2       0.54      0.47      0.50       594\n",
      "\n",
      "    accuracy                           0.64      1814\n",
      "   macro avg       0.54      0.50      0.52      1814\n",
      "weighted avg       0.63      0.64      0.63      1814\n",
      "\n",
      "\n",
      "Training MultiNomial NB...\n",
      "Accuracy: 0.6709\n",
      "Precision: 0.6550\n",
      "Recall: 0.6709\n",
      "F1 Score: 0.6263\n",
      " Classification Report:\n",
      "              precision    recall  f1-score   support\n",
      "\n",
      "           0       0.50      0.04      0.07       114\n",
      "           1       0.68      0.91      0.78      1106\n",
      "           2       0.64      0.35      0.45       594\n",
      "\n",
      "    accuracy                           0.67      1814\n",
      "   macro avg       0.61      0.43      0.43      1814\n",
      "weighted avg       0.65      0.67      0.63      1814\n",
      "\n",
      "\n",
      "Training KNN...\n",
      "Accuracy: 0.6351\n",
      "Precision: 0.6437\n",
      "Recall: 0.6351\n",
      "F1 Score: 0.5437\n",
      " Classification Report:\n",
      "              precision    recall  f1-score   support\n",
      "\n",
      "           0       0.43      0.05      0.09       114\n",
      "           1       0.63      0.97      0.76      1106\n",
      "           2       0.71      0.13      0.22       594\n",
      "\n",
      "    accuracy                           0.64      1814\n",
      "   macro avg       0.59      0.38      0.36      1814\n",
      "weighted avg       0.64      0.64      0.54      1814\n",
      "\n",
      "                                        accuracy  precision  recall  f1_score\n",
      "Multi-Logistic Regression (base model)    0.6378     0.6684  0.6378    0.6487\n",
      "Decision-tree                             0.6395     0.6263  0.6395    0.6302\n",
      "MultiNomial NB                            0.6709     0.6550  0.6709    0.6263\n",
      "KNN                                       0.6351     0.6437  0.6351    0.5437\n",
      "\n",
      "Best performing model: Multi-Logistic Regression (base model)\n",
      "Best f1 score: 0.6487\n"
     ]
    }
   ],
   "source": [
    "# train and evaluate all the pipelines\n",
    "multi_results = {}\n",
    "\n",
    "# loop through each pipeline\n",
    "for name, pipe in multi_pipelines.items():\n",
    "    print(f\"\\nTraining {name}...\")\n",
    "\n",
    "    # fit the pipeline\n",
    "    pipe.fit(X_train_mul, y_train_mul)\n",
    "\n",
    "    # make predictions\n",
    "    y_pred_mul = pipe.predict(X_test_mul)\n",
    "\n",
    "    # compute the evaluation metrics\n",
    "    accuracy = accuracy_score(y_test_mul, y_pred_mul)\n",
    "    precision = precision_score(y_test_mul, y_pred_mul, average='weighted')\n",
    "    recall = recall_score(y_test_mul, y_pred_mul, average='weighted')\n",
    "    f1 = f1_score(y_test_mul, y_pred_mul, average='weighted')\n",
    "\n",
    "    # store the results\n",
    "    multi_results[name] = {\n",
    "        'accuracy': accuracy,\n",
    "        'precision': precision,\n",
    "        'recall': recall,\n",
    "        'f1_score': f1\n",
    "    }\n",
    "\n",
    "    # display the results\n",
    "    print(f\"Accuracy: {accuracy:.4f}\")\n",
    "    print(f\"Precision: {precision:.4f}\")\n",
    "    print(f\"Recall: {recall:.4f}\")\n",
    "    print(f\"F1 Score: {f1:.4f}\")\n",
    "    print(\" Classification Report:\")\n",
    "    print(classification_report(y_test_mul, y_pred_mul))\n",
    "# create a DataFrame to display the results\n",
    "multi_results_df = pd.DataFrame(multi_results).T\n",
    "multi_results_df = multi_results_df.round(4)\n",
    "print(multi_results_df)\n",
    "\n",
    "# determine the best model based on f1 score\n",
    "best_multi_model = multi_results_df['f1_score'].idxmax()\n",
    "print(f\"\\nBest performing model: {best_multi_model}\")\n",
    "print(f\"Best f1 score: {multi_results_df.loc[best_multi_model, 'f1_score']:.4f}\")"
   ]
  },
  {
   "cell_type": "markdown",
   "id": "cc4c2063",
   "metadata": {},
   "source": [
    "Across all three models, class 2 (positive sentiment) was consistently under-predicted, as evidenced by low recall and F1-scores. This systemic issue implies a strong bias toward majority classes, resulting in missed detection of positive feedback — a potential strategic blind spot in sentiment-driven decision-making.\n",
    "\n",
    "The best performing model was the `Multi-Logistic Regression (base model)` with a f1-score of **0.64**"
   ]
  },
  {
   "cell_type": "code",
   "execution_count": null,
   "id": "03288db6",
   "metadata": {},
   "outputs": [],
   "source": []
  },
  {
   "cell_type": "markdown",
   "id": "8cf76c78",
   "metadata": {},
   "source": [
    "## Model Evaluation"
   ]
  },
  {
   "cell_type": "code",
   "execution_count": null,
   "id": "4c11b218",
   "metadata": {},
   "outputs": [
    {
     "data": {
      "text/plain": [
       "'\\nbest_model_multi = \\'Multi-Logistic Regression (base model)\\'\\nbest_pipeline_final = multi_pipelines[best_model_multi]\\n\\nimport os\\nos.makedirs(\\'Streamlit\\', exist_ok=True)\\nfilename = \\'Streamlit/multi_nlp_model.sav\\'\\npickle.dump(best_pipeline_final, open(filename, \\'wb\\'))\\nprint(f\"Model saved successfully: {filename}\")\\n# Load the saved model for implementation\\nmulti_loaded_model = pickle.load(open(\\'Streamlit/multi_nlp_model.sav\\', \\'rb\\'))\\nprint(f\"Model loaded successfully\\n\")\\n'"
      ]
     },
     "execution_count": 46,
     "metadata": {},
     "output_type": "execute_result"
    }
   ],
   "source": [
    "\"\"\"\n",
    "best_model_multi = 'Multi-Logistic Regression (base model)'\n",
    "best_pipeline_final = multi_pipelines[best_model_multi]\n",
    "\n",
    "import os\n",
    "os.makedirs('Streamlit', exist_ok=True)\n",
    "filename = 'Streamlit/multi_nlp_model.sav'\n",
    "pickle.dump(best_pipeline_final, open(filename, 'wb'))\n",
    "print(f\"Model saved successfully: {filename}\")\n",
    "\"\"\"\n"
   ]
  },
  {
   "cell_type": "code",
   "execution_count": null,
   "id": "9ec1dddd",
   "metadata": {},
   "outputs": [
    {
     "name": "stdout",
     "output_type": "stream",
     "text": [
      "\n",
      "Detailed Classification Report:\n",
      "              precision    recall  f1-score   support\n",
      "\n",
      "    Negative       0.29      0.53      0.37       114\n",
      "    Positive       0.77      0.67      0.72      1106\n",
      "     Neutral       0.56      0.60      0.58       594\n",
      "\n",
      "    accuracy                           0.64      1814\n",
      "   macro avg       0.54      0.60      0.55      1814\n",
      "weighted avg       0.67      0.64      0.65      1814\n",
      "\n"
     ]
    }
   ],
   "source": [
    "# Loading the model for implementation\n",
    "multi_loaded_model = pickle.load(open('Streamlit/multi_nlp_model.sav', 'rb'))\n",
    "\n",
    "# Testing on the entire test set.\n",
    "test_predictions_mul = multi_loaded_model.predict(X_test_mul)\n",
    "test_probabilities_mul = multi_loaded_model.predict_proba(X_test_mul)\n",
    "# Map encoded labels back to sentiment names\n",
    "label_mapping = {0: 'Negative', 1: 'Positive', 2: 'Neutral'}\n",
    "# Show classification report\n",
    "print(f\"\\nDetailed Classification Report:\")\n",
    "print(classification_report(y_test_mul, test_predictions_mul, \n",
    "                          target_names=['Negative', 'Positive', 'Neutral'],\n",
    "                          zero_division=0))"
   ]
  },
  {
   "cell_type": "markdown",
   "id": "50fb3b93",
   "metadata": {},
   "source": [
    "Confusion Matrix for the best performning model"
   ]
  },
  {
   "cell_type": "code",
   "execution_count": 37,
   "id": "0b468016",
   "metadata": {},
   "outputs": [
    {
     "name": "stdout",
     "output_type": "stream",
     "text": [
      "\n",
      "Confusion Matrix:\n",
      "[[ 60  27  27]\n",
      " [107 743 256]\n",
      " [ 43 197 354]]\n"
     ]
    },
    {
     "data": {
      "text/plain": [
       "<Figure size 800x600 with 0 Axes>"
      ]
     },
     "metadata": {},
     "output_type": "display_data"
    },
    {
     "data": {
      "image/png": "[encoded data removed]",
      "text/plain": [
       "<Figure size 640x480 with 2 Axes>"
      ]
     },
     "metadata": {},
     "output_type": "display_data"
    }
   ],
   "source": [
    "cm = confusion_matrix(y_test_mul, test_predictions_mul)\n",
    "print(\"\\nConfusion Matrix:\")\n",
    "print(cm)\n",
    "# Visualize confusion matrix\n",
    "plt.figure(figsize=(8, 6))\n",
    "disp = ConfusionMatrixDisplay(confusion_matrix=cm, display_labels=['Negative', 'Positive', 'Neutral'])\n",
    "disp.plot(cmap='Blues')\n",
    "plt.title(f'Confusion Matrix - {best_model_multi}')\n",
    "plt.tight_layout()\n",
    "plt.show()\n"
   ]
  },
  {
   "cell_type": "code",
   "execution_count": null,
   "id": "56bff9ff",
   "metadata": {},
   "outputs": [],
   "source": []
  },
  {
   "cell_type": "markdown",
   "id": "595cc113",
   "metadata": {},
   "source": [
    "## Hyperparameter tuning of the best performing model"
   ]
  },
  {
   "cell_type": "markdown",
   "id": "022a1218",
   "metadata": {},
   "source": [
    "### Training the Model using class weights"
   ]
  },
  {
   "cell_type": "code",
   "execution_count": 44,
   "id": "267eb7c0",
   "metadata": {},
   "outputs": [
    {
     "name": "stdout",
     "output_type": "stream",
     "text": [
      "Computed Class Weights:\n",
      "  Negative (0): 5.32\n",
      "  Positive (1): 0.55\n",
      "  Neutral (2): 1.02\n",
      "\n",
      "              precision    recall  f1-score   support\n",
      "\n",
      "    Negative       0.15      0.73      0.24       114\n",
      "    Positive       0.81      0.42      0.55      1106\n",
      "     Neutral       0.50      0.57      0.53       594\n",
      "\n",
      "    accuracy                           0.49      1814\n",
      "   macro avg       0.48      0.57      0.44      1814\n",
      "weighted avg       0.67      0.49      0.52      1814\n",
      "\n"
     ]
    }
   ],
   "source": [
    "from sklearn.utils.class_weight import compute_class_weight\n",
    "# Compute class weights\n",
    "class_weights = compute_class_weight(\n",
    "    class_weight='balanced',\n",
    "    classes=np.unique(y_train_mul),\n",
    "    y=y_train_mul\n",
    ")\n",
    "# Create dictionary mapping\n",
    "class_weight_dict = {i: weight for i, weight in enumerate(class_weights)}\n",
    "print(\"Computed Class Weights:\")\n",
    "print(f\"  Negative (0): {class_weight_dict[0]:.2f}\")\n",
    "print(f\"  Positive (1): {class_weight_dict[1]:.2f}\")\n",
    "print(f\"  Neutral (2): {class_weight_dict[2]:.2f}\")\n",
    "\n",
    "# Create model with these weights\n",
    "optimized_pipeline = Pipeline([\n",
    "    ('preprocessor', text_transformer),\n",
    "    ('vectorizer', TfidfVectorizer(ngram_range=(1, 2), max_features=5000)),\n",
    "    ('classifier', LogisticRegression(\n",
    "        max_iter=1000,\n",
    "        random_state=42,\n",
    "        class_weight=class_weight_dict,  # Use computed weights\n",
    "        C=1.0,\n",
    "        solver='saga'\n",
    "    ))\n",
    "])\n",
    "optimized_pipeline.fit(X_train_mul, y_train_mul)\n",
    "predictions = optimized_pipeline.predict(X_test_mul)\n",
    "print(\"\\n\" + classification_report(y_test_mul, predictions,\n",
    "                                   target_names=['Negative', 'Positive', 'Neutral']))\n"
   ]
  },
  {
   "cell_type": "markdown",
   "id": "860abd7c",
   "metadata": {},
   "source": [
    "### Training the Model using an enhanced TF-IDF Vectorizer"
   ]
  },
  {
   "cell_type": "code",
   "execution_count": 38,
   "id": "85650569",
   "metadata": {},
   "outputs": [
    {
     "name": "stdout",
     "output_type": "stream",
     "text": [
      "              precision    recall  f1-score   support\n",
      "\n",
      "    Negative       0.34      0.32      0.33       114\n",
      "    Positive       0.78      0.60      0.67      1106\n",
      "     Neutral       0.49      0.71      0.58       594\n",
      "\n",
      "    accuracy                           0.62      1814\n",
      "   macro avg       0.53      0.54      0.53      1814\n",
      "weighted avg       0.66      0.62      0.62      1814\n",
      "\n"
     ]
    }
   ],
   "source": [
    "# Enhanced TF-IDF configuration\n",
    "enhanced_vectorizer = TfidfVectorizer(\n",
    "    ngram_range=(1, 3),  # Include trigrams\n",
    "    max_features=10000,  # More features\n",
    "    min_df=2,  # Ignore terms that appear in less than 2 documents\n",
    "    max_df=0.85,  # Ignore terms that appear in more than 85% of documents\n",
    "    sublinear_tf=True,  # Use sublinear scaling (log)\n",
    "    use_idf=True,\n",
    "    smooth_idf=True,\n",
    "    norm='l2'  # L2 normalization\n",
    ")\n",
    "enhanced_pipeline = Pipeline([\n",
    "    ('preprocessor', text_transformer),\n",
    "    ('vectorizer', enhanced_vectorizer),\n",
    "    ('classifier', LogisticRegression(\n",
    "        max_iter=2000,\n",
    "        random_state=42,\n",
    "        C=10,  # Try stronger regularization\n",
    "        solver='saga',\n",
    "        class_weight='balanced'\n",
    "    ))\n",
    "])\n",
    "enhanced_pipeline.fit(X_train_mul, y_train_mul)\n",
    "predictions = enhanced_pipeline.predict(X_test_mul)\n",
    "print(classification_report(y_test_mul, predictions,\n",
    "                           target_names=['Negative', 'Positive', 'Neutral']))"
   ]
  },
  {
   "cell_type": "markdown",
   "id": "0d158f15",
   "metadata": {},
   "source": [
    "### Fitting the Model using SMOTE"
   ]
  },
  {
   "cell_type": "code",
   "execution_count": 43,
   "id": "3340e6f1",
   "metadata": {},
   "outputs": [
    {
     "name": "stdout",
     "output_type": "stream",
     "text": [
      "Training model with SMOTE...\n",
      "\n",
      "              precision    recall  f1-score   support\n",
      "\n",
      "    Negative       0.34      0.39      0.37       114\n",
      "    Positive       0.75      0.73      0.74      1106\n",
      "     Neutral       0.57      0.59      0.58       594\n",
      "\n",
      "    accuracy                           0.66      1814\n",
      "   macro avg       0.55      0.57      0.56      1814\n",
      "weighted avg       0.67      0.66      0.66      1814\n",
      "\n"
     ]
    }
   ],
   "source": [
    "# Create pipeline with SMOTE\n",
    "smote_pipeline = ImbPipeline([\n",
    "    ('preprocessor', text_transformer),\n",
    "    ('vectorizer', TfidfVectorizer(ngram_range=(1, 2), max_features=7000)),\n",
    "    ('smote', SMOTE(random_state=42, k_neighbors=3)),  # Apply SMOTE\n",
    "    ('classifier', LogisticRegression(\n",
    "        max_iter=2000,\n",
    "        C=10,\n",
    "        solver='saga',\n",
    "        random_state=42\n",
    "    ))\n",
    "])\n",
    "print(\"Training model with SMOTE...\")\n",
    "smote_pipeline.fit(X_train_mul, y_train_mul)\n",
    "predictions = smote_pipeline.predict(X_test_mul)\n",
    "print(\"\\n\" + classification_report(y_test_mul, predictions,\n",
    "                                   target_names=['Negative', 'Positive', 'Neutral']))\n"
   ]
  },
  {
   "cell_type": "markdown",
   "id": "5d222d32",
   "metadata": {},
   "source": [
    "### Comparing all three methods"
   ]
  },
  {
   "cell_type": "code",
   "execution_count": 47,
   "id": "ee01f11d",
   "metadata": {},
   "outputs": [
    {
     "name": "stdout",
     "output_type": "stream",
     "text": [
      "\n",
      "Training Baseline LR...\n",
      "\n",
      "Training LR + Class Weights...\n",
      "\n",
      "Training LR + Enhanced TF-IDF...\n",
      "\n",
      "Training LR + SMOTE...\n",
      "MODEL COMPARISON\n",
      "                      accuracy  f1_score  precision  recall\n",
      "Baseline LR             0.7012    0.6717     0.6939  0.7012\n",
      "LR + SMOTE              0.6604    0.6630     0.6662  0.6604\n",
      "LR + Class Weights      0.6378    0.6487     0.6684  0.6378\n",
      "LR + Enhanced TF-IDF    0.6152    0.6217     0.6556  0.6152\n"
     ]
    }
   ],
   "source": [
    "def compare_models(models_dict, X_train, y_train, X_test, y_test):\n",
    "    \"\"\"\n",
    "    Compare multiple models and return results\n",
    "    \"\"\"\n",
    "    results = {}\n",
    "    \n",
    "    for name, model in models_dict.items():\n",
    "        print(f\"\\nTraining {name}...\")\n",
    "        model.fit(X_train, y_train)\n",
    "        predictions = model.predict(X_test)\n",
    "        \n",
    "        accuracy = accuracy_score(y_test, predictions)\n",
    "        f1 = f1_score(y_test, predictions, average='weighted')\n",
    "        precision = precision_score(y_test, predictions, average='weighted', zero_division=0)\n",
    "        recall = recall_score(y_test, predictions, average='weighted', zero_division=0)\n",
    "        \n",
    "        results[name] = {\n",
    "            'accuracy': accuracy,\n",
    "            'f1_score': f1,\n",
    "            'precision': precision,\n",
    "            'recall': recall\n",
    "        }\n",
    "    \n",
    "    # Display comparison\n",
    "    results_df = pd.DataFrame(results).T.sort_values('f1_score', ascending=False)\n",
    "    #print(\"\\n\" + \"=\"*70)\n",
    "    print(\"MODEL COMPARISON\")\n",
    "    #print(\"=\"*70)\n",
    "    print(results_df.round(4))\n",
    "    \n",
    "    return results_df\n",
    "\n",
    "# Define models to compare\n",
    "models_to_test = {\n",
    "    'Baseline LR': Pipeline([\n",
    "        ('preprocessor', text_transformer),\n",
    "        ('vectorizer', TfidfVectorizer()),\n",
    "        ('classifier', LogisticRegression(max_iter=1000, random_state=42))\n",
    "    ]),\n",
    "    'LR + Class Weights': Pipeline([\n",
    "        ('preprocessor', text_transformer),\n",
    "        ('vectorizer', TfidfVectorizer(ngram_range=(1, 2), max_features=5000)),\n",
    "        ('classifier', LogisticRegression(max_iter=1000, class_weight='balanced', random_state=42))\n",
    "    ]),\n",
    "    'LR + Enhanced TF-IDF': enhanced_pipeline,\n",
    "    'LR + SMOTE': smote_pipeline,\n",
    "    #'Ensemble': ensemble_pipeline\n",
    "}\n",
    "\n",
    "# Run comparison\n",
    "comparison_results = compare_models(models_to_test, X_train_mul, y_train_mul, X_test_mul, y_test_mul)"
   ]
  },
  {
   "cell_type": "code",
   "execution_count": null,
   "id": "15ae2e63",
   "metadata": {},
   "outputs": [],
   "source": []
  },
  {
   "cell_type": "code",
   "execution_count": null,
   "id": "81285d0a",
   "metadata": {},
   "outputs": [],
   "source": []
  },
  
  {
   "cell_type": "code",
   "execution_count": null,
   "id": "e495a4ad",
   "metadata": {},
   "outputs": [],
   "source": []
  }
 ],
 "metadata": {
  "kernelspec": {
   "display_name": "base",
   "language": "python",
   "name": "python3"
  },
  "language_info": {
   "codemirror_mode": {
    "name": "ipython",
    "version": 3
   },
   "file_extension": ".py",
   "mimetype": "text/x-python",
   "name": "python",
   "nbconvert_exporter": "python",
   "pygments_lexer": "ipython3",
   "version": "3.12.2"
  }
 },
 "nbformat": 4,
 "nbformat_minor": 5
}
